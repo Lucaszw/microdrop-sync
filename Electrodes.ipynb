{
 "cells": [
  {
   "cell_type": "code",
   "execution_count": 1,
   "metadata": {
    "collapsed": true
   },
   "outputs": [],
   "source": [
    "import microdrop_sync.microdrop_sync as ms\n",
    "import microdrop_sync.utils\n",
    "\n",
    "reload(microdrop_sync.microdrop_sync)\n",
    "reload(microdrop_sync.utils)\n",
    "\n",
    "utils = microdrop_sync.utils.MicrodropUtils()\n",
    "microdrop = ms.MicrodropSync()\n",
    "\n",
    "electrodes = microdrop.electrodes\n",
    "\n",
    "from pprint import PrettyPrinter\n",
    "\n",
    "pp = PrettyPrinter()"
   ]
  },
  {
   "cell_type": "code",
   "execution_count": 25,
   "metadata": {},
   "outputs": [
    {
     "data": {
      "text/plain": [
       "True"
      ]
     },
     "execution_count": 25,
     "metadata": {},
     "output_type": "execute_result"
    }
   ],
   "source": [
    "electrode_id = 'electrode024'\n",
    "electrodes.turn_on_electrode(electrode_id)"
   ]
  },
  {
   "cell_type": "code",
   "execution_count": 28,
   "metadata": {},
   "outputs": [
    {
     "data": {
      "text/plain": [
       "[]"
      ]
     },
     "execution_count": 28,
     "metadata": {},
     "output_type": "execute_result"
    }
   ],
   "source": [
    "electrodes.get_on_electrodes()"
   ]
  },
  {
   "cell_type": "code",
   "execution_count": 29,
   "metadata": {},
   "outputs": [
    {
     "data": {
      "text/plain": [
       "[]"
      ]
     },
     "execution_count": 29,
     "metadata": {},
     "output_type": "execute_result"
    }
   ],
   "source": [
    "electrodes.turn_off_electrodes(electrodes.get_on_electrodes())\n",
    "electrodes.get_on_electrodes()"
   ]
  },
  {
   "cell_type": "code",
   "execution_count": 30,
   "metadata": {
    "collapsed": true
   },
   "outputs": [
    {
     "data": {
      "text/plain": [
       "electrode000    False\n",
       "electrode001    False\n",
       "electrode002    False\n",
       "electrode003    False\n",
       "electrode004    False\n",
       "electrode005    False\n",
       "electrode006    False\n",
       "electrode007    False\n",
       "electrode008    False\n",
       "electrode009    False\n",
       "electrode010    False\n",
       "electrode011    False\n",
       "electrode012    False\n",
       "electrode013    False\n",
       "electrode014    False\n",
       "electrode015    False\n",
       "electrode016    False\n",
       "electrode017    False\n",
       "electrode018    False\n",
       "electrode019    False\n",
       "electrode020    False\n",
       "electrode021    False\n",
       "electrode022    False\n",
       "electrode023    False\n",
       "electrode024    False\n",
       "electrode025    False\n",
       "electrode026    False\n",
       "electrode027    False\n",
       "electrode028    False\n",
       "electrode029    False\n",
       "                ...  \n",
       "electrode062    False\n",
       "electrode063    False\n",
       "electrode064    False\n",
       "electrode065    False\n",
       "electrode066    False\n",
       "electrode067    False\n",
       "electrode068    False\n",
       "electrode069    False\n",
       "electrode070    False\n",
       "electrode071    False\n",
       "electrode072    False\n",
       "electrode073    False\n",
       "electrode074    False\n",
       "electrode075    False\n",
       "electrode076    False\n",
       "electrode077    False\n",
       "electrode078    False\n",
       "electrode079    False\n",
       "electrode080    False\n",
       "electrode081    False\n",
       "electrode082    False\n",
       "electrode083    False\n",
       "electrode084    False\n",
       "electrode085    False\n",
       "electrode086    False\n",
       "electrode087    False\n",
       "electrode088    False\n",
       "electrode089    False\n",
       "electrode090    False\n",
       "electrode091    False\n",
       "Length: 92, dtype: object"
      ]
     },
     "execution_count": 30,
     "metadata": {},
     "output_type": "execute_result"
    }
   ],
   "source": [
    "electrodes.get_electrodes()"
   ]
  },
  {
   "cell_type": "code",
   "execution_count": 31,
   "metadata": {
    "scrolled": true
   },
   "outputs": [
    {
     "data": {
      "text/plain": [
       "[u'electrode030']"
      ]
     },
     "execution_count": 31,
     "metadata": {},
     "output_type": "execute_result"
    }
   ],
   "source": [
    "electrode_ids = ['electrode030', 'electrode035']\n",
    "electrodes.turn_on_electrodes(electrode_ids)"
   ]
  },
  {
   "cell_type": "code",
   "execution_count": 32,
   "metadata": {},
   "outputs": [
    {
     "data": {
      "text/plain": [
       "[u'electrode035']"
      ]
     },
     "execution_count": 32,
     "metadata": {},
     "output_type": "execute_result"
    }
   ],
   "source": [
    "electrodes.turn_off_electrodes(electrode_ids)"
   ]
  },
  {
   "cell_type": "code",
   "execution_count": 33,
   "metadata": {},
   "outputs": [
    {
     "data": {
      "text/plain": [
       "[u'electrode057',\n",
       " u'electrode058',\n",
       " u'electrode073',\n",
       " u'electrode074',\n",
       " u'electrode078']"
      ]
     },
     "execution_count": 33,
     "metadata": {},
     "output_type": "execute_result"
    },
    {
     "name": "stdout",
     "output_type": "stream",
     "text": [
      "[Errno 10054] An existing connection was forcibly closed by the remote host\n",
      "[Errno 10054] An existing connection was forcibly closed by the remote host\n"
     ]
    }
   ],
   "source": [
    "electrodes.clear_electrodes()"
   ]
  },
  {
   "cell_type": "code",
   "execution_count": null,
   "metadata": {
    "collapsed": true
   },
   "outputs": [],
   "source": []
  }
 ],
 "metadata": {
  "kernelspec": {
   "display_name": "Python 2",
   "language": "python",
   "name": "python2"
  },
  "language_info": {
   "codemirror_mode": {
    "name": "ipython",
    "version": 2
   },
   "file_extension": ".py",
   "mimetype": "text/x-python",
   "name": "python",
   "nbconvert_exporter": "python",
   "pygments_lexer": "ipython2",
   "version": "2.7.13"
  }
 },
 "nbformat": 4,
 "nbformat_minor": 2
}
