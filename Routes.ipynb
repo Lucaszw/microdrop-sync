{
 "cells": [
  {
   "cell_type": "code",
   "execution_count": 1,
   "metadata": {},
   "outputs": [],
   "source": [
    "import microdrop_sync.microdrop_sync as ms\n",
    "import microdrop_sync.utils\n",
    "\n",
    "reload(microdrop_sync.routes)\n",
    "reload(microdrop_sync.microdrop_sync)\n",
    "reload(microdrop_sync.plugin_manager)\n",
    "reload(microdrop_sync.utils)\n",
    "\n",
    "utils = microdrop_sync.utils.MicrodropUtils()\n",
    "microdrop = ms.MicrodropSync()\n",
    "\n",
    "routes = microdrop.routes\n",
    "\n",
    "from pprint import PrettyPrinter\n",
    "\n",
    "pp = PrettyPrinter()"
   ]
  },
  {
   "cell_type": "code",
   "execution_count": 2,
   "metadata": {},
   "outputs": [
    {
     "data": {
      "text/plain": [
       "{u'drop_routes':      electrode_i  route_i  transition_i\n",
       " 7   electrode032        1             0\n",
       " 8   electrode031        1             1\n",
       " 9   electrode085        1             2\n",
       " 10  electrode020        1             3\n",
       " 11  electrode022        1             4\n",
       " 12  electrode026        2             0\n",
       " 13  electrode025        2             1\n",
       " 14  electrode086        2             2\n",
       " 15  electrode046        2             3\n",
       " 16  electrode017        2             4}"
      ]
     },
     "execution_count": 2,
     "metadata": {},
     "output_type": "execute_result"
    }
   ],
   "source": [
    "# Get Routes:\n",
    "routes.routes()"
   ]
  },
  {
   "cell_type": "code",
   "execution_count": 3,
   "metadata": {},
   "outputs": [
    {
     "name": "stderr",
     "output_type": "stream",
     "text": [
      "A:\\Miniconda2\\envs\\microdrop\\lib\\site-packages\\wheezy\\routing\\router.py:43: UserWarning: PathRouter: overriding route: on_variable_set.\n",
      "  warn('PathRouter: overriding route: %s.' % name)\n"
     ]
    },
    {
     "data": {
      "text/plain": [
       "[u'transition_duration_ms',\n",
       " u'route_repeats',\n",
       " u'repeat_duration_s',\n",
       " u'trail_length',\n",
       " u'drop_routes']"
      ]
     },
     "execution_count": 3,
     "metadata": {},
     "output_type": "execute_result"
    }
   ],
   "source": [
    "# Get Route Options:\n",
    "routes.route_options().keys()"
   ]
  },
  {
   "cell_type": "code",
   "execution_count": 4,
   "metadata": {},
   "outputs": [
    {
     "data": {
      "text/plain": [
       "[{u'name': u'droplet_planning_plugin',\n",
       "  u'path': u'A:\\\\Development\\\\repositories\\\\droplet_planning_plugin',\n",
       "  u'state': u'running'}]"
      ]
     },
     "execution_count": 4,
     "metadata": {},
     "output_type": "execute_result"
    }
   ],
   "source": [
    "routes.find_droplet_planning_plugins()"
   ]
  },
  {
   "cell_type": "code",
   "execution_count": 5,
   "metadata": {},
   "outputs": [
    {
     "name": "stdout",
     "output_type": "stream",
     "text": [
      "PLUGIN ALREADY RUNNING: droplet_planning_plugin\n"
     ]
    },
    {
     "name": "stderr",
     "output_type": "stream",
     "text": [
      "A:\\Miniconda2\\envs\\microdrop\\lib\\site-packages\\wheezy\\routing\\router.py:50: UserWarning: PathRouter: overriding path: microdrop/web-server/state/process-plugins.\n",
      "  warn('PathRouter: overriding path: %s.' % pattern)\n"
     ]
    },
    {
     "data": {
      "text/plain": [
       "True"
      ]
     },
     "execution_count": 5,
     "metadata": {},
     "output_type": "execute_result"
    }
   ],
   "source": [
    "routes.start_droplet_planning_plugin()\n",
    "routes.droplet_planning_is_running()"
   ]
  },
  {
   "cell_type": "code",
   "execution_count": 6,
   "metadata": {},
   "outputs": [
    {
     "data": {
      "text/plain": [
       "False"
      ]
     },
     "execution_count": 6,
     "metadata": {},
     "output_type": "execute_result"
    }
   ],
   "source": [
    "routes.stop_droplet_planning_plugin()\n",
    "routes.droplet_planning_is_running()"
   ]
  },
  {
   "cell_type": "code",
   "execution_count": 7,
   "metadata": {},
   "outputs": [
    {
     "name": "stderr",
     "output_type": "stream",
     "text": [
      "A:\\Miniconda2\\envs\\microdrop\\lib\\site-packages\\wheezy\\routing\\router.py:50: UserWarning: PathRouter: overriding path: microdrop/routes-model/state/routes.\n",
      "  warn('PathRouter: overriding path: %s.' % pattern)\n"
     ]
    }
   ],
   "source": [
    "route = routes.routes()"
   ]
  },
  {
   "cell_type": "code",
   "execution_count": 8,
   "metadata": {},
   "outputs": [
    {
     "name": "stdout",
     "output_type": "stream",
     "text": [
      "DROPLET PLANNING PLUGIN IS NOT RUNNING\n",
      "Attempting to start droplet planning plugin\n"
     ]
    },
    {
     "name": "stderr",
     "output_type": "stream",
     "text": [
      "A:\\Miniconda2\\envs\\microdrop\\lib\\site-packages\\wheezy\\routing\\router.py:43: UserWarning: PathRouter: overriding route: on_success.\n",
      "  warn('PathRouter: overriding route: %s.' % name)\n"
     ]
    },
    {
     "data": {
      "text/plain": [
       "{u'drop_routes':      electrode_i  route_i  transition_i\n",
       " 7   electrode032        1             0\n",
       " 8   electrode031        1             1\n",
       " 9   electrode085        1             2\n",
       " 10  electrode020        1             3\n",
       " 11  electrode022        1             4\n",
       " 12  electrode026        2             0\n",
       " 13  electrode025        2             1\n",
       " 14  electrode086        2             2\n",
       " 15  electrode046        2             3\n",
       " 16  electrode017        2             4}"
      ]
     },
     "execution_count": 8,
     "metadata": {},
     "output_type": "execute_result"
    }
   ],
   "source": [
    "routes.clear_routes()"
   ]
  },
  {
   "cell_type": "code",
   "execution_count": 9,
   "metadata": {},
   "outputs": [
    {
     "data": {
      "text/html": [
       "<div>\n",
       "<style>\n",
       "    .dataframe thead tr:only-child th {\n",
       "        text-align: right;\n",
       "    }\n",
       "\n",
       "    .dataframe thead th {\n",
       "        text-align: left;\n",
       "    }\n",
       "\n",
       "    .dataframe tbody tr th {\n",
       "        vertical-align: top;\n",
       "    }\n",
       "</style>\n",
       "<table border=\"1\" class=\"dataframe\">\n",
       "  <thead>\n",
       "    <tr style=\"text-align: right;\">\n",
       "      <th></th>\n",
       "      <th>electrode_i</th>\n",
       "      <th>route_i</th>\n",
       "      <th>transition_i</th>\n",
       "    </tr>\n",
       "  </thead>\n",
       "  <tbody>\n",
       "    <tr>\n",
       "      <th>7</th>\n",
       "      <td>electrode032</td>\n",
       "      <td>1</td>\n",
       "      <td>0</td>\n",
       "    </tr>\n",
       "    <tr>\n",
       "      <th>8</th>\n",
       "      <td>electrode031</td>\n",
       "      <td>1</td>\n",
       "      <td>1</td>\n",
       "    </tr>\n",
       "    <tr>\n",
       "      <th>9</th>\n",
       "      <td>electrode085</td>\n",
       "      <td>1</td>\n",
       "      <td>2</td>\n",
       "    </tr>\n",
       "    <tr>\n",
       "      <th>10</th>\n",
       "      <td>electrode020</td>\n",
       "      <td>1</td>\n",
       "      <td>3</td>\n",
       "    </tr>\n",
       "    <tr>\n",
       "      <th>11</th>\n",
       "      <td>electrode022</td>\n",
       "      <td>1</td>\n",
       "      <td>4</td>\n",
       "    </tr>\n",
       "    <tr>\n",
       "      <th>12</th>\n",
       "      <td>electrode026</td>\n",
       "      <td>2</td>\n",
       "      <td>0</td>\n",
       "    </tr>\n",
       "    <tr>\n",
       "      <th>13</th>\n",
       "      <td>electrode025</td>\n",
       "      <td>2</td>\n",
       "      <td>1</td>\n",
       "    </tr>\n",
       "    <tr>\n",
       "      <th>14</th>\n",
       "      <td>electrode086</td>\n",
       "      <td>2</td>\n",
       "      <td>2</td>\n",
       "    </tr>\n",
       "    <tr>\n",
       "      <th>15</th>\n",
       "      <td>electrode046</td>\n",
       "      <td>2</td>\n",
       "      <td>3</td>\n",
       "    </tr>\n",
       "    <tr>\n",
       "      <th>16</th>\n",
       "      <td>electrode017</td>\n",
       "      <td>2</td>\n",
       "      <td>4</td>\n",
       "    </tr>\n",
       "  </tbody>\n",
       "</table>\n",
       "</div>"
      ],
      "text/plain": [
       "     electrode_i  route_i  transition_i\n",
       "7   electrode032        1             0\n",
       "8   electrode031        1             1\n",
       "9   electrode085        1             2\n",
       "10  electrode020        1             3\n",
       "11  electrode022        1             4\n",
       "12  electrode026        2             0\n",
       "13  electrode025        2             1\n",
       "14  electrode086        2             2\n",
       "15  electrode046        2             3\n",
       "16  electrode017        2             4"
      ]
     },
     "execution_count": 9,
     "metadata": {},
     "output_type": "execute_result"
    }
   ],
   "source": [
    "new_routes = routes.set_routes(route)\n",
    "new_routes['drop_routes']"
   ]
  },
  {
   "cell_type": "code",
   "execution_count": null,
   "metadata": {
    "collapsed": true
   },
   "outputs": [],
   "source": []
  },
  {
   "cell_type": "code",
   "execution_count": null,
   "metadata": {
    "collapsed": true
   },
   "outputs": [],
   "source": []
  }
 ],
 "metadata": {
  "kernelspec": {
   "display_name": "Python [default]",
   "language": "python",
   "name": "python2"
  },
  "language_info": {
   "codemirror_mode": {
    "name": "ipython",
    "version": 2
   },
   "file_extension": ".py",
   "mimetype": "text/x-python",
   "name": "python",
   "nbconvert_exporter": "python",
   "pygments_lexer": "ipython2",
   "version": "2.7.13"
  }
 },
 "nbformat": 4,
 "nbformat_minor": 2
}
