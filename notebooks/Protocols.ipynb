{
 "cells": [
  {
   "cell_type": "code",
   "execution_count": 1,
   "metadata": {},
   "outputs": [],
   "source": [
    "import microdrop_sync.microdrop_sync as ms\n",
    "import microdrop_sync.utils\n",
    "\n",
    "reload(microdrop_sync.routes)\n",
    "reload(microdrop_sync.microdrop_sync)\n",
    "reload(microdrop_sync.plugin_manager)\n",
    "reload(microdrop_sync.utils)\n",
    "\n",
    "utils = microdrop_sync.utils.MicrodropUtils()\n",
    "microdrop = ms.MicrodropSync()\n",
    "\n",
    "protocols = microdrop.protocols\n",
    "\n",
    "from pprint import PrettyPrinter\n",
    "\n",
    "pp = PrettyPrinter()"
   ]
  },
  {
   "cell_type": "code",
   "execution_count": 2,
   "metadata": {},
   "outputs": [
    {
     "data": {
      "text/plain": [
       "2"
      ]
     },
     "execution_count": 2,
     "metadata": {},
     "output_type": "execute_result"
    }
   ],
   "source": [
    "# Get all protocols\n",
    "len(protocols.protocols())"
   ]
  },
  {
   "cell_type": "code",
   "execution_count": 3,
   "metadata": {},
   "outputs": [
    {
     "name": "stderr",
     "output_type": "stream",
     "text": [
      "A:\\Miniconda2\\envs\\microdrop\\lib\\site-packages\\wheezy\\routing\\router.py:43: UserWarning: PathRouter: overriding route: on_variable_set.\n",
      "  warn('PathRouter: overriding route: %s.' % name)\n",
      "A:\\Miniconda2\\envs\\microdrop\\lib\\site-packages\\wheezy\\routing\\router.py:50: UserWarning: PathRouter: overriding path: microdrop/protocol-model/state/protocols.\n",
      "  warn('PathRouter: overriding path: %s.' % pattern)\n"
     ]
    },
    {
     "data": {
      "text/plain": [
       "[{u'name': u'Protocol: 2017-9-26 10:07:06',\n",
       "  u'steps': [{u'defaults': {u'step': 0}}]},\n",
       " {u'name': u'Protocol: 2017-9-26 10:07:36',\n",
       "  u'steps': [{u'defaults': {u'step': 0}}]}]"
      ]
     },
     "execution_count": 3,
     "metadata": {},
     "output_type": "execute_result"
    }
   ],
   "source": [
    "# Save Current Protocol:\n",
    "name = protocols.current_protocol_skeleton()['name']\n",
    "protocols.save_protocol_with_name(name)"
   ]
  },
  {
   "cell_type": "code",
   "execution_count": 4,
   "metadata": {},
   "outputs": [
    {
     "name": "stderr",
     "output_type": "stream",
     "text": [
      "A:\\Miniconda2\\envs\\microdrop\\lib\\site-packages\\wheezy\\routing\\router.py:43: UserWarning: PathRouter: overriding route: on_success.\n",
      "  warn('PathRouter: overriding route: %s.' % name)\n"
     ]
    },
    {
     "data": {
      "text/plain": [
       "u'Protocol: 2017-9-26 10:17:07'"
      ]
     },
     "execution_count": 4,
     "metadata": {},
     "output_type": "execute_result"
    }
   ],
   "source": [
    "# New Protocol:\n",
    "new_protocol = protocols.new_protocol()\n",
    "new_protocol['name']"
   ]
  },
  {
   "cell_type": "code",
   "execution_count": 5,
   "metadata": {},
   "outputs": [
    {
     "name": "stderr",
     "output_type": "stream",
     "text": [
      "A:\\Miniconda2\\envs\\microdrop\\lib\\site-packages\\wheezy\\routing\\router.py:50: UserWarning: PathRouter: overriding path: microdrop/protocol-model/state/protocol-skeleton.\n",
      "  warn('PathRouter: overriding path: %s.' % pattern)\n"
     ]
    },
    {
     "data": {
      "text/plain": [
       "{u'name': u'Protocol: 2017-9-26 10:07:06'}"
      ]
     },
     "execution_count": 5,
     "metadata": {},
     "output_type": "execute_result"
    }
   ],
   "source": [
    "# Change Protocol:\n",
    "name = protocols.protocols()[0]['name']\n",
    "protocols.load_protocol_with_name(name)"
   ]
  },
  {
   "cell_type": "code",
   "execution_count": 6,
   "metadata": {},
   "outputs": [
    {
     "data": {
      "text/plain": [
       "[{u'name': u'Protocol: 2017-9-26 10:07:06',\n",
       "  u'steps': [{u'defaults': {u'step': 0}}]},\n",
       " {u'name': u'Protocol: 2017-9-26 10:07:36',\n",
       "  u'steps': [{u'defaults': {u'step': 0}}]}]"
      ]
     },
     "execution_count": 6,
     "metadata": {},
     "output_type": "execute_result"
    }
   ],
   "source": [
    "# Delete Protocol:\n",
    "protocol = protocols.protocols()[-1]\n",
    "protocols.delete_protocol_with_name(protocol['name'])"
   ]
  },
  {
   "cell_type": "code",
   "execution_count": 7,
   "metadata": {},
   "outputs": [
    {
     "data": {
      "text/plain": [
       "[{u'name': u'Protocol: 2017-9-26 10:07:06',\n",
       "  u'steps': [{u'defaults': {u'step': 0}}]},\n",
       " {u'name': u'Protocol: 2017-9-26 10:07:36',\n",
       "  u'steps': [{u'defaults': {u'step': 0}}]},\n",
       " {u'name': u'Protocol: 2017-9-26 10:17:07',\n",
       "  u'steps': [{u'defaults': {u'step': 0}}]}]"
      ]
     },
     "execution_count": 7,
     "metadata": {},
     "output_type": "execute_result"
    },
    {
     "name": "stdout",
     "output_type": "stream",
     "text": [
      "[Errno 10054] An existing connection was forcibly closed by the remote host\n"
     ]
    }
   ],
   "source": [
    "# Upload Protocol:\n",
    "protocols.upload_protocol(protocol)"
   ]
  }
 ],
 "metadata": {
  "kernelspec": {
   "display_name": "Python 2",
   "language": "python",
   "name": "python2"
  },
  "language_info": {
   "codemirror_mode": {
    "name": "ipython",
    "version": 2
   },
   "file_extension": ".py",
   "mimetype": "text/x-python",
   "name": "python",
   "nbconvert_exporter": "python",
   "pygments_lexer": "ipython2",
   "version": "2.7.13"
  }
 },
 "nbformat": 4,
 "nbformat_minor": 2
}
