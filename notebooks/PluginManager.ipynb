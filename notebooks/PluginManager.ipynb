{
 "cells": [
  {
   "cell_type": "code",
   "execution_count": 1,
   "metadata": {
    "collapsed": true
   },
   "outputs": [],
   "source": [
    "import microdrop_sync.microdrop_sync as ms\n",
    "import microdrop_sync.utils\n",
    "\n",
    "reload(microdrop_sync.microdrop_sync)\n",
    "reload(microdrop_sync.utils)\n",
    "\n",
    "utils = microdrop_sync.utils.MicrodropUtils\n",
    "microdrop = ms.MicrodropSync()\n",
    "\n",
    "plugin_manager = microdrop.plugin_manager\n",
    "\n",
    "from pprint import PrettyPrinter\n",
    "pp = PrettyPrinter()"
   ]
  },
  {
   "cell_type": "code",
   "execution_count": 2,
   "metadata": {},
   "outputs": [
    {
     "data": {
      "text/plain": [
       "<microdrop_sync.plugin_manager.PluginManager at 0x7759db0>"
      ]
     },
     "execution_count": 2,
     "metadata": {},
     "output_type": "execute_result"
    }
   ],
   "source": [
    "plugin_manager"
   ]
  },
  {
   "cell_type": "code",
   "execution_count": 3,
   "metadata": {
    "collapsed": true
   },
   "outputs": [
    {
     "data": {
      "text/plain": [
       "[u'protocol-ui:web',\n",
       " u'step-model:A:\\\\Development\\\\repositories\\\\microdrop-3.0\\\\models',\n",
       " u'device-loader:web',\n",
       " u'device_info_plugin:A:\\\\Development\\\\repositories\\\\device_info_plugin',\n",
       " u'experiment-ui:web',\n",
       " u'plugin-process-manager:web',\n",
       " u'device-model:A:\\\\Development\\\\repositories\\\\microdrop-3.0\\\\models',\n",
       " u'droplet_planning_plugin:A:\\\\Development\\\\repositories\\\\droplet_planning_plugin',\n",
       " u':web',\n",
       " u'routes-model:A:\\\\Development\\\\repositories\\\\microdrop-3.0\\\\models',\n",
       " u'm-q-t-t-client:web',\n",
       " u'electrodes-model:A:\\\\Development\\\\repositories\\\\microdrop-3.0\\\\models',\n",
       " u'u-i-plugin-manager:web',\n",
       " u'protocol-model:A:\\\\Development\\\\repositories\\\\microdrop-3.0\\\\models',\n",
       " u'microdrop_sync:A:\\\\Development\\\\repositories\\\\microdrop-sync\\\\microdrop_sync',\n",
       " u'protocol-execution-ui:web',\n",
       " u'ui-controller:web',\n",
       " u'microdrop_sync:A:\\\\Development\\\\repositories\\\\microdropSync\\\\microdrop_sync']"
      ]
     },
     "execution_count": 3,
     "metadata": {},
     "output_type": "execute_result"
    }
   ],
   "source": [
    "process_plugins = plugin_manager.get_process_plugins()\n",
    "process_plugins.keys()"
   ]
  },
  {
   "cell_type": "code",
   "execution_count": 11,
   "metadata": {
    "collapsed": true
   },
   "outputs": [],
   "source": [
    "plugin_name = 'droplet_planning_plugin'\n",
    "plugin_path = 'A:\\\\Development\\\\repositories\\\\droplet_planning_plugin'\n",
    "new_plugin_path = 'A:\\\\Development\\\\repositories'\n",
    "plugin_id = utils.get_plugin_id(plugin_name, plugin_path)"
   ]
  },
  {
   "cell_type": "code",
   "execution_count": 6,
   "metadata": {
    "collapsed": true
   },
   "outputs": [
    {
     "ename": "KeyError",
     "evalue": "'droplet_planning_plugin:A:\\\\Development\\\\repositories\\\\droplet_planning_plugin'",
     "output_type": "error",
     "traceback": [
      "\u001b[1;31m---------------------------------------------------------------------------\u001b[0m",
      "\u001b[1;31mKeyError\u001b[0m                                  Traceback (most recent call last)",
      "\u001b[1;32m<ipython-input-6-53c86aadc658>\u001b[0m in \u001b[0;36m<module>\u001b[1;34m()\u001b[0m\n\u001b[1;32m----> 1\u001b[1;33m \u001b[0mplugin_manager\u001b[0m\u001b[1;33m.\u001b[0m\u001b[0mstart_process_plugin\u001b[0m\u001b[1;33m(\u001b[0m\u001b[0mplugin_id\u001b[0m\u001b[1;33m)\u001b[0m\u001b[1;33m\u001b[0m\u001b[0m\n\u001b[0m",
      "\u001b[1;32mA:\\Development\\repositories\\microdropSync\\microdrop_sync\\plugin_manager.pyc\u001b[0m in \u001b[0;36mstart_process_plugin\u001b[1;34m(self, id)\u001b[0m\n\u001b[0;32m     53\u001b[0m     \u001b[1;32mdef\u001b[0m \u001b[0mstart_process_plugin\u001b[0m\u001b[1;33m(\u001b[0m\u001b[0mself\u001b[0m\u001b[1;33m,\u001b[0m \u001b[0mid\u001b[0m\u001b[1;33m)\u001b[0m\u001b[1;33m:\u001b[0m\u001b[1;33m\u001b[0m\u001b[0m\n\u001b[0;32m     54\u001b[0m         \u001b[1;31m# Get Process Plugins:\u001b[0m\u001b[1;33m\u001b[0m\u001b[1;33m\u001b[0m\u001b[0m\n\u001b[1;32m---> 55\u001b[1;33m         \u001b[0mplugin\u001b[0m \u001b[1;33m=\u001b[0m \u001b[0mself\u001b[0m\u001b[1;33m.\u001b[0m\u001b[0mget_process_plugins\u001b[0m\u001b[1;33m(\u001b[0m\u001b[1;33m)\u001b[0m\u001b[1;33m[\u001b[0m\u001b[0mid\u001b[0m\u001b[1;33m]\u001b[0m\u001b[1;33m\u001b[0m\u001b[0m\n\u001b[0m\u001b[0;32m     56\u001b[0m \u001b[1;33m\u001b[0m\u001b[0m\n\u001b[0;32m     57\u001b[0m         success_topic = MicrodropUtils.get_signal_topic(plugin['name'],\n",
      "\u001b[1;31mKeyError\u001b[0m: 'droplet_planning_plugin:A:\\\\Development\\\\repositories\\\\droplet_planning_plugin'"
     ]
    }
   ],
   "source": [
    "plugin_manager.start_process_plugin(plugin_id)"
   ]
  },
  {
   "cell_type": "code",
   "execution_count": 21,
   "metadata": {
    "collapsed": true
   },
   "outputs": [
    {
     "ename": "KeyboardInterrupt",
     "evalue": "",
     "output_type": "error",
     "traceback": [
      "\u001b[1;31m---------------------------------------------------------------------------\u001b[0m",
      "\u001b[1;31mKeyboardInterrupt\u001b[0m                         Traceback (most recent call last)",
      "\u001b[1;32m<ipython-input-21-22ddfe1cb7df>\u001b[0m in \u001b[0;36m<module>\u001b[1;34m()\u001b[0m\n\u001b[1;32m----> 1\u001b[1;33m \u001b[0mplugin_manager\u001b[0m\u001b[1;33m.\u001b[0m\u001b[0mstop_process_plugin\u001b[0m\u001b[1;33m(\u001b[0m\u001b[0mplugin_id\u001b[0m\u001b[1;33m)\u001b[0m\u001b[1;33m\u001b[0m\u001b[0m\n\u001b[0m",
      "\u001b[1;32mA:\\Development\\repositories\\microdropSync\\microdrop_sync\\plugin_manager.py\u001b[0m in \u001b[0;36mstop_process_plugin\u001b[1;34m(self, id)\u001b[0m\n\u001b[0;32m     71\u001b[0m                                                         'plugin-exited')\n\u001b[0;32m     72\u001b[0m         self.ms.trigger_sync(\"web-server\", \"close-plugin\",\n\u001b[1;32m---> 73\u001b[1;33m                              plugin['name'], success_topic)\n\u001b[0m\u001b[0;32m     74\u001b[0m         \u001b[1;32mreturn\u001b[0m \u001b[0mself\u001b[0m\u001b[1;33m.\u001b[0m\u001b[0mget_process_plugins\u001b[0m\u001b[1;33m(\u001b[0m\u001b[1;33m)\u001b[0m\u001b[1;33m[\u001b[0m\u001b[0mid\u001b[0m\u001b[1;33m]\u001b[0m\u001b[1;33m\u001b[0m\u001b[0m\n",
      "\u001b[1;32mA:\\Development\\repositories\\microdropSync\\microdrop_sync\\microdrop_sync.pyc\u001b[0m in \u001b[0;36mtrigger_sync\u001b[1;34m(self, receiver, action, val, success_topic)\u001b[0m\n\u001b[0;32m     41\u001b[0m         \u001b[0mcallback\u001b[0m \u001b[1;33m=\u001b[0m \u001b[0mself\u001b[0m\u001b[1;33m.\u001b[0m\u001b[0mbindTriggerMsg\u001b[0m\u001b[1;33m(\u001b[0m\u001b[0mreceiver\u001b[0m\u001b[1;33m,\u001b[0m \u001b[0maction\u001b[0m\u001b[1;33m,\u001b[0m \u001b[1;34m\"trigger-event\"\u001b[0m\u001b[1;33m)\u001b[0m\u001b[1;33m\u001b[0m\u001b[0m\n\u001b[0;32m     42\u001b[0m         return self.broadcast_sync(callback, \"trigger-event\", val,\n\u001b[1;32m---> 43\u001b[1;33m                                    success_topic)\n\u001b[0m\u001b[0;32m     44\u001b[0m \u001b[1;33m\u001b[0m\u001b[0m\n\u001b[0;32m     45\u001b[0m     \u001b[1;32mdef\u001b[0m \u001b[0mbroadcast_sync\u001b[0m\u001b[1;33m(\u001b[0m\u001b[0mself\u001b[0m\u001b[1;33m,\u001b[0m \u001b[0mcallback\u001b[0m\u001b[1;33m,\u001b[0m \u001b[0mevent\u001b[0m\u001b[1;33m,\u001b[0m \u001b[0mval\u001b[0m\u001b[1;33m,\u001b[0m \u001b[0msuccess_topic\u001b[0m\u001b[1;33m=\u001b[0m\u001b[0mNone\u001b[0m\u001b[1;33m)\u001b[0m\u001b[1;33m:\u001b[0m\u001b[1;33m\u001b[0m\u001b[0m\n",
      "\u001b[1;32mA:\\Development\\repositories\\microdropSync\\microdrop_sync\\microdrop_sync.pyc\u001b[0m in \u001b[0;36mbroadcast_sync\u001b[1;34m(self, callback, event, val, success_topic)\u001b[0m\n\u001b[0;32m     57\u001b[0m             \u001b[0msub\u001b[0m \u001b[1;33m=\u001b[0m \u001b[0mself\u001b[0m\u001b[1;33m.\u001b[0m\u001b[0maddSubscription\u001b[0m\u001b[1;33m(\u001b[0m\u001b[0msuccess_topic\u001b[0m\u001b[1;33m,\u001b[0m \u001b[0mon_success\u001b[0m\u001b[1;33m)\u001b[0m\u001b[1;33m\u001b[0m\u001b[0m\n\u001b[0;32m     58\u001b[0m             \u001b[0mself\u001b[0m\u001b[1;33m.\u001b[0m\u001b[0mmqtt_client\u001b[0m\u001b[1;33m.\u001b[0m\u001b[0msubscribe\u001b[0m\u001b[1;33m(\u001b[0m\u001b[0msub\u001b[0m\u001b[1;33m)\u001b[0m\u001b[1;33m\u001b[0m\u001b[0m\n\u001b[1;32m---> 59\u001b[1;33m             \u001b[1;32mwhile\u001b[0m \u001b[0mvar\u001b[0m\u001b[1;33m[\u001b[0m\u001b[1;34m'messageNotDelivered'\u001b[0m\u001b[1;33m]\u001b[0m\u001b[1;33m:\u001b[0m\u001b[1;33m\u001b[0m\u001b[0m\n\u001b[0m\u001b[0;32m     60\u001b[0m                 \u001b[1;32mpass\u001b[0m\u001b[1;33m\u001b[0m\u001b[0m\n\u001b[0;32m     61\u001b[0m \u001b[1;33m\u001b[0m\u001b[0m\n",
      "\u001b[1;31mKeyboardInterrupt\u001b[0m: "
     ]
    }
   ],
   "source": [
    "plugin_manager.stop_process_plugin(plugin_id)"
   ]
  },
  {
   "cell_type": "code",
   "execution_count": 9,
   "metadata": {
    "collapsed": true
   },
   "outputs": [
    {
     "name": "stderr",
     "output_type": "stream",
     "text": [
      "A:\\Miniconda2\\envs\\microdrop\\lib\\site-packages\\wheezy\\routing\\router.py:43: UserWarning: PathRouter: overriding route: on_success.\n",
      "  warn('PathRouter: overriding route: %s.' % name)\n"
     ]
    },
    {
     "data": {
      "text/plain": [
       "{u'device-model:A:\\\\Development\\\\repositories\\\\microdrop-3.0\\\\models': {u'name': u'device-model',\n",
       "  u'path': u'A:\\\\Development\\\\repositories\\\\microdrop-3.0\\\\models',\n",
       "  u'state': u'running'},\n",
       " u'electrodes-model:A:\\\\Development\\\\repositories\\\\microdrop-3.0\\\\models': {u'name': u'electrodes-model',\n",
       "  u'path': u'A:\\\\Development\\\\repositories\\\\microdrop-3.0\\\\models',\n",
       "  u'state': u'stopped'},\n",
       " u'microdrop_sync:A:\\\\Development\\\\repositories\\\\microdropSync\\\\microdrop_sync': {u'name': u'microdrop_sync',\n",
       "  u'path': u'A:\\\\Development\\\\repositories\\\\microdropSync\\\\microdrop_sync',\n",
       "  u'state': u'stopped'},\n",
       " u'protocol-model:A:\\\\Development\\\\repositories\\\\microdrop-3.0\\\\models': {u'name': u'protocol-model',\n",
       "  u'path': u'A:\\\\Development\\\\repositories\\\\microdrop-3.0\\\\models',\n",
       "  u'state': u'stopped'},\n",
       " u'routes-model:A:\\\\Development\\\\repositories\\\\microdrop-3.0\\\\models': {u'name': u'routes-model',\n",
       "  u'path': u'A:\\\\Development\\\\repositories\\\\microdrop-3.0\\\\models',\n",
       "  u'state': u'stopped'},\n",
       " u'step-model:A:\\\\Development\\\\repositories\\\\microdrop-3.0\\\\models': {u'name': u'step-model',\n",
       "  u'path': u'A:\\\\Development\\\\repositories\\\\microdrop-3.0\\\\models',\n",
       "  u'state': u'stopped'}}"
      ]
     },
     "execution_count": 9,
     "metadata": {},
     "output_type": "execute_result"
    }
   ],
   "source": [
    "plugin_manager.add_plugin_path(new_plugin_path)"
   ]
  },
  {
   "cell_type": "code",
   "execution_count": 14,
   "metadata": {
    "collapsed": true
   },
   "outputs": [
    {
     "data": {
      "text/plain": [
       "{u'device-model:A:\\\\Development\\\\repositories\\\\microdrop-3.0\\\\models': {u'name': u'device-model',\n",
       "  u'path': u'A:\\\\Development\\\\repositories\\\\microdrop-3.0\\\\models',\n",
       "  u'state': u'running'},\n",
       " u'electrodes-model:A:\\\\Development\\\\repositories\\\\microdrop-3.0\\\\models': {u'name': u'electrodes-model',\n",
       "  u'path': u'A:\\\\Development\\\\repositories\\\\microdrop-3.0\\\\models',\n",
       "  u'state': u'running'},\n",
       " u'protocol-model:A:\\\\Development\\\\repositories\\\\microdrop-3.0\\\\models': {u'name': u'protocol-model',\n",
       "  u'path': u'A:\\\\Development\\\\repositories\\\\microdrop-3.0\\\\models',\n",
       "  u'state': u'running'},\n",
       " u'routes-model:A:\\\\Development\\\\repositories\\\\microdrop-3.0\\\\models': {u'name': u'routes-model',\n",
       "  u'path': u'A:\\\\Development\\\\repositories\\\\microdrop-3.0\\\\models',\n",
       "  u'state': u'running'},\n",
       " u'step-model:A:\\\\Development\\\\repositories\\\\microdrop-3.0\\\\models': {u'name': u'step-model',\n",
       "  u'path': u'A:\\\\Development\\\\repositories\\\\microdrop-3.0\\\\models',\n",
       "  u'state': u'running'}}"
      ]
     },
     "execution_count": 14,
     "metadata": {},
     "output_type": "execute_result"
    },
    {
     "name": "stdout",
     "output_type": "stream",
     "text": [
      "[Errno 10054] An existing connection was forcibly closed by the remote host[Errno 10054] An existing connection was forcibly closed by the remote host\n",
      "\n"
     ]
    }
   ],
   "source": [
    "plugin_manager.remove_plugin_path(plugin_path)"
   ]
  },
  {
   "cell_type": "code",
   "execution_count": 22,
   "metadata": {
    "collapsed": true
   },
   "outputs": [
    {
     "data": {
      "text/plain": [
       "{u'name': u'default-ui-plugins',\n",
       " u'path': u'A:\\\\Development\\\\repositories\\\\web-plugins\\\\default-ui-plugins\\\\default-ui-plugins.js',\n",
       " u'state': u'enabled'}"
      ]
     },
     "execution_count": 22,
     "metadata": {},
     "output_type": "execute_result"
    }
   ],
   "source": [
    "plugin_path = 'A:\\\\Development\\\\repositories\\\\web-plugins\\\\default-ui-plugins\\\\default-ui-plugins.js'\n",
    "plugin_manager.get_web_plugins()[plugin_path]"
   ]
  },
  {
   "cell_type": "code",
   "execution_count": 26,
   "metadata": {},
   "outputs": [
    {
     "data": {
      "text/plain": [
       "{u'name': u'default-ui-plugins',\n",
       " u'path': u'A:\\\\Development\\\\repositories\\\\web-plugins\\\\default-ui-plugins\\\\default-ui-plugins.js',\n",
       " u'state': u'enabled'}"
      ]
     },
     "execution_count": 26,
     "metadata": {},
     "output_type": "execute_result"
    }
   ],
   "source": [
    "plugin_manager.enable_web_plugin(plugin_path)"
   ]
  },
  {
   "cell_type": "code",
   "execution_count": 25,
   "metadata": {},
   "outputs": [
    {
     "data": {
      "text/plain": [
       "False"
      ]
     },
     "execution_count": 25,
     "metadata": {},
     "output_type": "execute_result"
    }
   ],
   "source": [
    "plugin_manager.disable_web_plugin(plugin_path)"
   ]
  },
  {
   "cell_type": "code",
   "execution_count": 31,
   "metadata": {
    "collapsed": true
   },
   "outputs": [
    {
     "data": {
      "text/plain": [
       "{u'%7B%7Bcookiecutter.plugin_name%7D%7D:A:\\\\Development\\\\repositories\\\\cookiecutter-sample\\\\{{cookiecutter.plugin_name}}\\\\{{cookiecutter.plugin_name}}': {u'name': u'%7B%7Bcookiecutter.plugin_name%7D%7D',\n",
       "  u'path': u'A:\\\\Development\\\\repositories\\\\cookiecutter-sample\\\\{{cookiecutter.plugin_name}}\\\\{{cookiecutter.plugin_name}}',\n",
       "  u'state': u'stopped'},\n",
       " u'device-model:A:\\\\Development\\\\repositories\\\\microdrop-3.0\\\\models': {u'name': u'device-model',\n",
       "  u'path': u'A:\\\\Development\\\\repositories\\\\microdrop-3.0\\\\models',\n",
       "  u'state': u'running'},\n",
       " u'device_info_plugin:A:\\\\Development\\\\repositories\\\\device_info_plugin': {u'name': u'device_info_plugin',\n",
       "  u'path': u'A:\\\\Development\\\\repositories\\\\device_info_plugin',\n",
       "  u'state': u'stopped'},\n",
       " u'droplet-planning-plugin:A:\\\\Development\\\\repositories\\\\droplet_planning_plugin': {u'name': u'droplet-planning-plugin',\n",
       "  u'path': u'A:\\\\Development\\\\repositories\\\\droplet_planning_plugin',\n",
       "  u'state': u'stopped'},\n",
       " u'droplet_planning_plugin:A:\\\\Development\\\\repositories\\\\droplet_planning_plugin': {u'name': u'droplet_planning_plugin',\n",
       "  u'path': u'A:\\\\Development\\\\repositories\\\\droplet_planning_plugin',\n",
       "  u'state': u'stopped'},\n",
       " u'electrodes-model:A:\\\\Development\\\\repositories\\\\microdrop-3.0\\\\models': {u'name': u'electrodes-model',\n",
       "  u'path': u'A:\\\\Development\\\\repositories\\\\microdrop-3.0\\\\models',\n",
       "  u'state': u'running'},\n",
       " u'protocol-model:A:\\\\Development\\\\repositories\\\\microdrop-3.0\\\\models': {u'name': u'protocol-model',\n",
       "  u'path': u'A:\\\\Development\\\\repositories\\\\microdrop-3.0\\\\models',\n",
       "  u'state': u'running'},\n",
       " u'routes-model:A:\\\\Development\\\\repositories\\\\microdrop-3.0\\\\models': {u'name': u'routes-model',\n",
       "  u'path': u'A:\\\\Development\\\\repositories\\\\microdrop-3.0\\\\models',\n",
       "  u'state': u'running'},\n",
       " u'step-model:A:\\\\Development\\\\repositories\\\\microdrop-3.0\\\\models': {u'name': u'step-model',\n",
       "  u'path': u'A:\\\\Development\\\\repositories\\\\microdrop-3.0\\\\models',\n",
       "  u'state': u'running'}}"
      ]
     },
     "execution_count": 31,
     "metadata": {},
     "output_type": "execute_result"
    },
    {
     "name": "stdout",
     "output_type": "stream",
     "text": [
      "[Errno 10054] An existing connection was forcibly closed by the remote host\n",
      "[Errno 10054] An existing connection was forcibly closed by the remote host\n",
      "[Errno 10054] An existing connection was forcibly closed by the remote host\n",
      "[Errno 10054] An existing connection was forcibly closed by the remote host[Errno 10054] An existing connection was forcibly closed by the remote host[Errno 10054] An existing connection was forcibly closed by the remote host\n",
      "\n",
      "\n",
      "[Errno 10054] An existing connection was forcibly closed by the remote host[Errno 10054] An existing connection was forcibly closed by the remote host[Errno 10054] An existing connection was forcibly closed by the remote host\n",
      "\n",
      "\n",
      "[Errno 10054] An existing connection was forcibly closed by the remote host\n",
      "  [Errno 10054] An existing connection was forcibly closed by the remote host[Errno 10054] An existing connection was forcibly closed by the remote host\n",
      "\n",
      "[Errno 10054] An existing connection was forcibly closed by the remote host[Errno 10054] An existing connection was forcibly closed by the remote host[Errno 10054] An existing connection was forcibly closed by the remote host\n",
      "\n",
      "\n",
      "[Errno 10054] An existing connection was forcibly closed by the remote host[Errno 10054] An existing connection was forcibly closed by the remote host \n",
      "\n",
      "[Errno 10054] An existing connection was forcibly closed by the remote host\n",
      "[Errno 10054] An existing connection was forcibly closed by the remote host[Errno 10054] An existing connection was forcibly closed by the remote host[Errno 10054] An existing connection was forcibly closed by the remote host\n",
      "\n",
      "\n",
      "[Errno 10054] An existing connection was forcibly closed by the remote host[Errno 10054] An existing connection was forcibly closed by the remote host \n",
      "\n",
      "[Errno 10054] An existing connection was forcibly closed by the remote host\n",
      "[Errno 10054] An existing connection was forcibly closed by the remote host[Errno 10054] An existing connection was forcibly closed by the remote host[Errno 10054] An existing connection was forcibly closed by the remote host\n",
      "\n",
      "\n",
      "[Errno 10054] An existing connection was forcibly closed by the remote host [Errno 10054] An existing connection was forcibly closed by the remote host\n",
      "[Errno 10054] An existing connection was forcibly closed by the remote host\n",
      "\n",
      "[Errno 10054] An existing connection was forcibly closed by the remote host\n",
      "[Errno 10054] An existing connection was forcibly closed by the remote host\n",
      "[Errno 10054] An existing connection was forcibly closed by the remote host\n",
      "[Errno 10054] An existing connection was forcibly closed by the remote host[Errno 10054] An existing connection was forcibly closed by the remote host[Errno 10054] An existing connection was forcibly closed by the remote host\n",
      "\n",
      "\n",
      "[Errno 10054] An existing connection was forcibly closed by the remote host[Errno 10054] An existing connection was forcibly closed by the remote host[Errno 10054] An existing connection was forcibly closed by the remote host\n",
      "\n",
      "\n",
      "[Errno 10054] An existing connection was forcibly closed by the remote host[Errno 10054] An existing connection was forcibly closed by the remote host \n",
      "[Errno 10054] An existing connection was forcibly closed by the remote host\n",
      "\n",
      "[Errno 10054] An existing connection was forcibly closed by the remote host\n",
      "[Errno 10054] An existing connection was forcibly closed by the remote host[Errno 10054] An existing connection was forcibly closed by the remote host\n",
      "\n",
      "[Errno 10054] An existing connection was forcibly closed by the remote host[Errno 10054] An existing connection was forcibly closed by the remote host[Errno 10054] An existing connection was forcibly closed by the remote host\n",
      "\n",
      "\n",
      "[Errno 10054] An existing connection was forcibly closed by the remote host[Errno 10054] An existing connection was forcibly closed by the remote host\n",
      "\n",
      "[Errno 10054] An existing connection was forcibly closed by the remote host\n",
      "[Errno 10054] An existing connection was forcibly closed by the remote host[Errno 10054] An existing connection was forcibly closed by the remote host[Errno 10054] An existing connection was forcibly closed by the remote host\n",
      "\n",
      "\n",
      "[Errno 10054] An existing connection was forcibly closed by the remote host\n",
      "[Errno 10054] An existing connection was forcibly closed by the remote host\n",
      "[Errno 10054] An existing connection was forcibly closed by the remote host\n",
      "[Errno 10054] An existing connection was forcibly closed by the remote host\n",
      "[Errno 10054] An existing connection was forcibly closed by the remote host [Errno 10054] An existing connection was forcibly closed by the remote host\n",
      "\n",
      "[Errno 10054] An existing connection was forcibly closed by the remote host[Errno 10054] An existing connection was forcibly closed by the remote host\n",
      "\n",
      "[Errno 10054] An existing connection was forcibly closed by the remote host\n",
      "[Errno 10054] An existing connection was forcibly closed by the remote host\n",
      "[Errno 10054] An existing connection was forcibly closed by the remote host[Errno 10054] An existing connection was forcibly closed by the remote host\n",
      "\n",
      "[Errno 10054] An existing connection was forcibly closed by the remote host[Errno 10054] An existing connection was forcibly closed by the remote host\n",
      "[Errno 10054] An existing connection was forcibly closed by the remote host\n",
      "\n",
      "[Errno 10054] An existing connection was forcibly closed by the remote host[Errno 10054] An existing connection was forcibly closed by the remote host \n",
      "\n",
      "[Errno 10054] An existing connection was forcibly closed by the remote host\n",
      "[Errno 10054] An existing connection was forcibly closed by the remote host\n",
      "[Errno 10054] An existing connection was forcibly closed by the remote host\n",
      "[Errno 10054] An existing connection was forcibly closed by the remote host\n",
      "[Errno 10054] An existing connection was forcibly closed by the remote host\n",
      "[Errno 10054] An existing connection was forcibly closed by the remote host[Errno 10054] An existing connection was forcibly closed by the remote host\n",
      "\n",
      "[Errno 10054] An existing connection was forcibly closed by the remote host\n",
      "[Errno 10054] An existing connection was forcibly closed by the remote host [Errno 10054] An existing connection was forcibly closed by the remote host\n",
      "\n",
      "[Errno 10054] An existing connection was forcibly closed by the remote host[Errno 10054] An existing connection was forcibly closed by the remote host[Errno 10054] An existing connection was forcibly closed by the remote host\n",
      "\n",
      "\n",
      "[Errno 10054] An existing connection was forcibly closed by the remote host[Errno 10054] An existing connection was forcibly closed by the remote host \n",
      "\n",
      "[Errno 10054] An existing connection was forcibly closed by the remote host\n",
      "[Errno 10054] An existing connection was forcibly closed by the remote host[Errno 10054] An existing connection was forcibly closed by the remote host\n",
      "[Errno 10054] An existing connection was forcibly closed by the remote host\n",
      "\n",
      "[Errno 10054] An existing connection was forcibly closed by the remote host\n",
      "[Errno 10054] An existing connection was forcibly closed by the remote host[Errno 10054] An existing connection was forcibly closed by the remote host\n",
      "\n",
      "[Errno 10054] An existing connection was forcibly closed by the remote host[Errno 10054] An existing connection was forcibly closed by the remote host[Errno 10054] An existing connection was forcibly closed by the remote host\n",
      "\n",
      "\n",
      "[Errno 10054] An existing connection was forcibly closed by the remote host[Errno 10054] An existing connection was forcibly closed by the remote host[Errno 10054] An existing connection was forcibly closed by the remote host\n",
      "\n",
      "\n",
      "[Errno 10054] An existing connection was forcibly closed by the remote host[Errno 10054] An existing connection was forcibly closed by the remote host\n",
      "\n",
      "[Errno 10054] An existing connection was forcibly closed by the remote host\n",
      "[Errno 10054] An existing connection was forcibly closed by the remote host[Errno 10054] An existing connection was forcibly closed by the remote host[Errno 10054] An existing connection was forcibly closed by the remote host\n",
      "\n",
      "\n",
      "[Errno 10054] An existing connection was forcibly closed by the remote host[Errno 10054] An existing connection was forcibly closed by the remote host[Errno 10054] An existing connection was forcibly closed by the remote host\n",
      "\n",
      "\n"
     ]
    },
    {
     "name": "stdout",
     "output_type": "stream",
     "text": [
      "[Errno 10054] An existing connection was forcibly closed by the remote host\n",
      "[Errno 10054] An existing connection was forcibly closed by the remote host\n",
      "[Errno 10054] An existing connection was forcibly closed by the remote host\n",
      "[Errno 10054] An existing connection was forcibly closed by the remote host\n",
      "[Errno 10054] An existing connection was forcibly closed by the remote host\n",
      "[Errno 10054] An existing connection was forcibly closed by the remote host[Errno 10054] An existing connection was forcibly closed by the remote host \n",
      "\n",
      "[Errno 10054] An existing connection was forcibly closed by the remote host\n",
      "[Errno 10054] An existing connection was forcibly closed by the remote host[Errno 10054] An existing connection was forcibly closed by the remote host[Errno 10054] An existing connection was forcibly closed by the remote host\n",
      "\n",
      "\n",
      "[Errno 10054] An existing connection was forcibly closed by the remote host[Errno 10054] An existing connection was forcibly closed by the remote host \n",
      "\n",
      "[Errno 10054] An existing connection was forcibly closed by the remote host\n",
      "[Errno 10054] An existing connection was forcibly closed by the remote host[Errno 10054] An existing connection was forcibly closed by the remote host[Errno 10054] An existing connection was forcibly closed by the remote host\n",
      "\n",
      "\n",
      "[Errno 10054] An existing connection was forcibly closed by the remote host[Errno 10054] An existing connection was forcibly closed by the remote host[Errno 10054] An existing connection was forcibly closed by the remote host\n",
      "\n",
      "\n",
      "[Errno 10054] An existing connection was forcibly closed by the remote host[Errno 10054] An existing connection was forcibly closed by the remote host\n",
      "\n",
      "[Errno 10054] An existing connection was forcibly closed by the remote host\n",
      "[Errno 10054] An existing connection was forcibly closed by the remote host[Errno 10054] An existing connection was forcibly closed by the remote host \n",
      "[Errno 10054] An existing connection was forcibly closed by the remote host\n",
      "\n",
      "[Errno 10054] An existing connection was forcibly closed by the remote host[Errno 10054] An existing connection was forcibly closed by the remote host[Errno 10054] An existing connection was forcibly closed by the remote host\n",
      "\n",
      "\n",
      "[Errno 10054] An existing connection was forcibly closed by the remote host\n",
      "[Errno 10054] An existing connection was forcibly closed by the remote host\n",
      "[Errno 10054] An existing connection was forcibly closed by the remote host\n",
      "[Errno 10054] An existing connection was forcibly closed by the remote host\n",
      "[Errno 10054] An existing connection was forcibly closed by the remote host\n",
      "[Errno 10054] An existing connection was forcibly closed by the remote host\n",
      "[Errno 10054] An existing connection was forcibly closed by the remote host[Errno 10054] An existing connection was forcibly closed by the remote host[Errno 10054] An existing connection was forcibly closed by the remote host\n",
      "\n",
      "\n",
      "[Errno 10054] An existing connection was forcibly closed by the remote host[Errno 10054] An existing connection was forcibly closed by the remote host[Errno 10054] An existing connection was forcibly closed by the remote host\n",
      "\n",
      "\n",
      "[Errno 10054] An existing connection was forcibly closed by the remote host[Errno 10054] An existing connection was forcibly closed by the remote host \n",
      "\n",
      "[Errno 10054] An existing connection was forcibly closed by the remote host\n",
      "[Errno 10054] An existing connection was forcibly closed by the remote host[Errno 10054] An existing connection was forcibly closed by the remote host[Errno 10054] An existing connection was forcibly closed by the remote host\n",
      "\n",
      "\n",
      "[Errno 10054] An existing connection was forcibly closed by the remote host[Errno 10054] An existing connection was forcibly closed by the remote host[Errno 10054] An existing connection was forcibly closed by the remote host\n",
      "\n",
      "\n",
      "[Errno 10054] An existing connection was forcibly closed by the remote host\n",
      "[Errno 10054] An existing connection was forcibly closed by the remote host[Errno 10054] An existing connection was forcibly closed by the remote host\n",
      "\n"
     ]
    }
   ],
   "source": [
    "plugin_path = 'A:\\\\Development\\\\repositories\\\\cookiecutter-sample\\\\{{cookiecutter.plugin_name}}'\n",
    "plugin_manager.remove_plugin_path(plugin_path)"
   ]
  },
  {
   "cell_type": "code",
   "execution_count": 2,
   "metadata": {},
   "outputs": [
    {
     "data": {
      "text/plain": [
       "[{u'name': u'step-model',\n",
       "  u'path': u'A:\\\\Development\\\\repositories\\\\microdrop-3.0\\\\models',\n",
       "  u'state': u'running'},\n",
       " {u'name': u'device_info_plugin',\n",
       "  u'path': u'A:\\\\Development\\\\repositories\\\\device_info_plugin',\n",
       "  u'state': u'running'},\n",
       " {u'name': u'device-model',\n",
       "  u'path': u'A:\\\\Development\\\\repositories\\\\microdrop-3.0\\\\models',\n",
       "  u'state': u'running'},\n",
       " {u'name': u'routes-model',\n",
       "  u'path': u'A:\\\\Development\\\\repositories\\\\microdrop-3.0\\\\models',\n",
       "  u'state': u'running'},\n",
       " {u'name': u'electrodes-model',\n",
       "  u'path': u'A:\\\\Development\\\\repositories\\\\microdrop-3.0\\\\models',\n",
       "  u'state': u'running'},\n",
       " {u'name': u'protocol-model',\n",
       "  u'path': u'A:\\\\Development\\\\repositories\\\\microdrop-3.0\\\\models',\n",
       "  u'state': u'running'},\n",
       " {u'name': u'microdrop_sync',\n",
       "  u'path': u'A:\\\\Development\\\\repositories\\\\microdrop-sync\\\\microdrop_sync',\n",
       "  u'state': u'running'}]"
      ]
     },
     "execution_count": 2,
     "metadata": {},
     "output_type": "execute_result"
    }
   ],
   "source": [
    "plugin_manager.get_running_process_plugins()"
   ]
  },
  {
   "cell_type": "code",
   "execution_count": null,
   "metadata": {
    "collapsed": true
   },
   "outputs": [],
   "source": []
  }
 ],
 "metadata": {
  "kernelspec": {
   "display_name": "Python 2",
   "language": "python",
   "name": "python2"
  },
  "language_info": {
   "codemirror_mode": {
    "name": "ipython",
    "version": 2
   },
   "file_extension": ".py",
   "mimetype": "text/x-python",
   "name": "python",
   "nbconvert_exporter": "python",
   "pygments_lexer": "ipython2",
   "version": "2.7.13"
  }
 },
 "nbformat": 4,
 "nbformat_minor": 2
}
